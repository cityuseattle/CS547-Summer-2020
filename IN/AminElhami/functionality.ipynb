{
 "metadata": {
  "language_info": {
   "codemirror_mode": {
    "name": "ipython",
    "version": 3
   },
   "file_extension": ".py",
   "mimetype": "text/x-python",
   "name": "python",
   "nbconvert_exporter": "python",
   "pygments_lexer": "ipython3",
   "version": 3
  },
  "orig_nbformat": 2,
  "kernelspec": {
   "name": "python_defaultSpec_1596166045386",
   "display_name": "Python 3.8.3 64-bit"
  }
 },
 "nbformat": 4,
 "nbformat_minor": 2,
 "cells": [
  {
   "cell_type": "code",
   "execution_count": 1,
   "metadata": {},
   "outputs": [
    {
     "output_type": "error",
     "ename": "SyntaxError",
     "evalue": "invalid syntax (<ipython-input-1-07ed426dd198>, line 6)",
     "traceback": [
      "\u001b[0;36m  File \u001b[0;32m\"<ipython-input-1-07ed426dd198>\"\u001b[0;36m, line \u001b[0;32m6\u001b[0m\n\u001b[0;31m    'Sector': ['Retail', 'Tech', 'Tech', 'Tech', 'Tech']\u001b[0m\n\u001b[0m    ^\u001b[0m\n\u001b[0;31mSyntaxError\u001b[0m\u001b[0;31m:\u001b[0m invalid syntax\n"
     ]
    }
   ],
   "source": [
    "import pandas as pd\n",
    "\n",
    "companies = {\n",
    "    'Value': [220,160,140,117,94],\n",
    "    'Change': [17.5,11.9,-8.5,-2.1,3.5]\n",
    "    'Sector': ['Retail', 'Tech', 'Tech', 'Tech', 'Tech']\n",
    "}\n",
    "\n",
    "data pd.DataFrame(companies, index=['Amazon', 'Google', 'Apple', 'Microsoft', 'Samsung'])\n",
    "data"
   ]
  },
  {
   "cell_type": "code",
   "execution_count": null,
   "metadata": {},
   "outputs": [],
   "source": []
  }
 ]
}